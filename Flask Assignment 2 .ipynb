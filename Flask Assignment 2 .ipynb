{
 "cells": [
  {
   "cell_type": "markdown",
   "id": "bd1a7e1d-b12d-4c46-9291-411b03c766f4",
   "metadata": {},
   "source": [
    "Q1. Explain GET and POST methods."
   ]
  },
  {
   "cell_type": "code",
   "execution_count": null,
   "id": "32b8f020-6007-422e-9a19-2fa013934b07",
   "metadata": {},
   "outputs": [],
   "source": [
    "# The data sent using the get() method is retrieved on the development server. The data is obtained by using the following line of code. Here, the args is a dictionary object which\n",
    "# contains the list of pairs of form parameter and its corresponding value."
   ]
  },
  {
   "cell_type": "code",
   "execution_count": null,
   "id": "32199286-aa05-4c36-a107-aa78c244a486",
   "metadata": {},
   "outputs": [],
   "source": [
    "# Flask POST request is defined as an HTTP protocol method that enables users to send HTML form data to server. The HTTP protocol is the foundation of data communication and is basically\n",
    "# defined as an application layer for collaborative, distributed, hypermedia information systems."
   ]
  },
  {
   "cell_type": "code",
   "execution_count": null,
   "id": "36292a9d-93b8-4db9-9816-633f084b7176",
   "metadata": {},
   "outputs": [],
   "source": []
  },
  {
   "cell_type": "markdown",
   "id": "579b4b81-cbcc-4578-a885-52893ea7ffd2",
   "metadata": {},
   "source": [
    "Q2. Why is request used in Flask?"
   ]
  },
  {
   "cell_type": "code",
   "execution_count": null,
   "id": "b2c64139-2101-4c4b-8c48-43dc29102ad3",
   "metadata": {},
   "outputs": [],
   "source": [
    "# The Request, in Flask, is an object that contains all the data sent from the Client to Server. This data can be recovered using the GET/POST Methods.\n"
   ]
  },
  {
   "cell_type": "code",
   "execution_count": null,
   "id": "6c8caab1-96d7-4d08-b276-80e33b8b8574",
   "metadata": {},
   "outputs": [],
   "source": []
  },
  {
   "cell_type": "markdown",
   "id": "8107fdf2-9a4a-4452-a13a-fd1182376d6d",
   "metadata": {},
   "source": [
    "Q3. Why is redirect() used in Flask?"
   ]
  },
  {
   "cell_type": "code",
   "execution_count": null,
   "id": "52d25fd9-a9b7-4477-b363-07d4978df1ab",
   "metadata": {},
   "outputs": [],
   "source": [
    "# A redirect is used in the Flask class to send the user to a particular URL with the status code. conversely, this status code additionally identifies the issue.\n"
   ]
  },
  {
   "cell_type": "code",
   "execution_count": null,
   "id": "7658da4b-089d-48fe-890e-8303a915febf",
   "metadata": {},
   "outputs": [],
   "source": []
  },
  {
   "cell_type": "code",
   "execution_count": null,
   "id": "d753ef6a-ab81-41e4-84a4-a8a8cb8b2640",
   "metadata": {},
   "outputs": [],
   "source": []
  },
  {
   "cell_type": "markdown",
   "id": "674745dd-322c-4839-846c-7bbbe6b9ed61",
   "metadata": {},
   "source": [
    "Q4. What are templates in Flask? Why is the render_template() function used?"
   ]
  },
  {
   "cell_type": "code",
   "execution_count": null,
   "id": "abcea18e-ad91-43fe-b3e1-9126f46bf007",
   "metadata": {},
   "outputs": [],
   "source": [
    "# Templates are files that contain static data as well as placeholders for dynamic data. A template is rendered with specific data to produce a final document. Flask uses the Jinja \n",
    "# template library to render templates."
   ]
  },
  {
   "cell_type": "code",
   "execution_count": null,
   "id": "36dc5d6e-5cee-4723-8c04-8f145c3f4e28",
   "metadata": {},
   "outputs": [],
   "source": [
    "# render_template is a Flask function from the flask. templating package. render_template is used to generate output from a template file based on the Jinja2 engine that is found in the\n",
    "# application's templates folder. render_template is typically imported directly from the flask package instead of from flask"
   ]
  },
  {
   "cell_type": "code",
   "execution_count": null,
   "id": "330b5b44-e305-4af7-81a4-391af8ccd6db",
   "metadata": {},
   "outputs": [],
   "source": []
  },
  {
   "cell_type": "code",
   "execution_count": null,
   "id": "01f1e6f1-71f8-43f1-aa00-54b234e1d6c5",
   "metadata": {},
   "outputs": [],
   "source": []
  },
  {
   "cell_type": "code",
   "execution_count": null,
   "id": "c2500a65-a0c3-4ac8-893a-538d6eb72f0e",
   "metadata": {},
   "outputs": [],
   "source": []
  },
  {
   "cell_type": "markdown",
   "id": "94436855-35ad-4c24-8be9-b0f912fb6330",
   "metadata": {},
   "source": [
    "Q5. Create a simple API. Use Postman to test it. Attach the screenshot of the output in the Jupyter Notebook."
   ]
  },
  {
   "cell_type": "code",
   "execution_count": null,
   "id": "6c74a74f-a6af-41fe-8ce6-4e2c00f86af9",
   "metadata": {},
   "outputs": [],
   "source": [
    "from flask import Flask, render_template, jsonify, request\n",
    "\n",
    "app = Flask(__name__)\n",
    "\n",
    "@app.route('/', methods = ['GET', 'POST'])\n",
    "def home():\n",
    "    if(request.method == 'GET'):\n",
    "  \n",
    "        data = \"hello world\"\n",
    "        return jsonify({'data': data})\n",
    "  \n",
    "@app.route('/home/<int:num>', methods = ['GET'])\n",
    "def disp(num):\n",
    "  \n",
    "    return jsonify({'data': num**2})\n",
    "\n",
    "\n",
    "if __name__==\"__main__\":\n",
    "    app.run(host=\"0.0.0.0\")\n"
   ]
  },
  {
   "cell_type": "code",
   "execution_count": null,
   "id": "83b8b396-55f8-4c90-86d5-4a72a3293b5f",
   "metadata": {},
   "outputs": [],
   "source": [
    "https://red-chef-ozfcq.pwskills.app/files/work/Screenshot%20(11).png?_xsrf=2%7C4a74a777%7C80231095f5f07e24fccb96291c878b23%7C1691089293"
   ]
  },
  {
   "cell_type": "code",
   "execution_count": null,
   "id": "b7a66405-d8a2-4fdb-ae8a-dc8a54e53563",
   "metadata": {},
   "outputs": [],
   "source": [
    "https://red-chef-ozfcq.pwskills.app/files/work/Screenshot%20(12).png?_xsrf=2%7C4a74a777%7C80231095f5f07e24fccb96291c878b23%7C1691089293"
   ]
  },
  {
   "cell_type": "code",
   "execution_count": null,
   "id": "4d583ad9-8b20-4e96-9171-ab3cc15b2c4a",
   "metadata": {},
   "outputs": [],
   "source": [
    "# download link of screenshots are above given and if they will not work i will also attach this screenshot in my github repository "
   ]
  },
  {
   "cell_type": "code",
   "execution_count": null,
   "id": "b9bda0c6-1789-407f-9ccd-227e0b0d28e9",
   "metadata": {},
   "outputs": [],
   "source": []
  },
  {
   "cell_type": "code",
   "execution_count": null,
   "id": "6ebe282e-ea7f-4a2f-80e2-fe21f3ac33d3",
   "metadata": {},
   "outputs": [],
   "source": []
  },
  {
   "cell_type": "code",
   "execution_count": null,
   "id": "d6401d7f-84e2-4045-a1e5-7373c53196fd",
   "metadata": {},
   "outputs": [],
   "source": []
  }
 ],
 "metadata": {
  "kernelspec": {
   "display_name": "Python 3 (ipykernel)",
   "language": "python",
   "name": "python3"
  },
  "language_info": {
   "codemirror_mode": {
    "name": "ipython",
    "version": 3
   },
   "file_extension": ".py",
   "mimetype": "text/x-python",
   "name": "python",
   "nbconvert_exporter": "python",
   "pygments_lexer": "ipython3",
   "version": "3.10.8"
  }
 },
 "nbformat": 4,
 "nbformat_minor": 5
}
